{
 "cells": [
  {
   "cell_type": "code",
   "execution_count": 1,
   "id": "durable-panama",
   "metadata": {},
   "outputs": [],
   "source": [
    "# Import library\n",
    "import numpy as np\n",
    "import pandas as pd\n",
    "from sklearn import preprocessing\n",
    "import matplotlib.pyplot as plt\n",
    "\n",
    "from sklearn.model_selection import train_test_split\n",
    "from sklearn.linear_model    import *\n",
    "from sklearn.metrics         import mean_squared_error\n",
    "from sklearn.pipeline        import Pipeline\n",
    "from sklearn.preprocessing   import StandardScaler\n",
    "from sklearn.metrics         import accuracy_score\n",
    "from sklearn.metrics import precision_score\n",
    "from sklearn.model_selection import cross_val_score, KFold\n",
    "from sklearn.impute          import SimpleImputer\n",
    "from sklearn.metrics         import classification_report\n",
    "from sklearn                 import neighbors\n",
    "from sklearn.preprocessing   import *\n",
    "from sklearn.neighbors       import KNeighborsClassifier\n",
    "from sklearn.svm             import SVC\n",
    "from sklearn.model_selection import RandomizedSearchCV\n",
    "from sklearn.model_selection import GridSearchCV\n",
    "from sklearn.decomposition   import PCA\n",
    "from sklearn.preprocessing   import StandardScaler\n",
    "from sklearn.pipeline        import Pipeline\n",
    "from sklearn.tree            import DecisionTreeClassifier\n",
    "from sklearn.base            import BaseEstimator\n",
    "from sklearn.ensemble        import ExtraTreesClassifier, RandomForestClassifier\n",
    "from sklearn.linear_model    import LogisticRegression, RidgeClassifier\n",
    "from sklearn.ensemble import RandomForestRegressor\n",
    "from sklearn.metrics import confusion_matrix\n",
    "from sklearn.metrics import classification_report\n",
    "\n",
    "from sklearn.metrics         import f1_score\n",
    "from sklearn.naive_bayes     import GaussianNB\n",
    "from sklearn.compose         import ColumnTransformer\n",
    "from sklearn.metrics import mean_squared_error\n",
    "from math                    import sqrt\n",
    "import xgboost as xgb\n",
    "import warnings\n",
    "warnings.filterwarnings('ignore')"
   ]
  },
  {
   "cell_type": "code",
   "execution_count": 2,
   "id": "swiss-nowhere",
   "metadata": {},
   "outputs": [],
   "source": [
    "# Read data\n",
    "df = pd.read_excel('/Users/apple/Desktop/cea/MODEL/rainstick_model.xlsx', engine='openpyxl')\n",
    "df = df.iloc[: , 1:]"
   ]
  },
  {
   "cell_type": "code",
   "execution_count": 3,
   "id": "likely-mainstream",
   "metadata": {},
   "outputs": [],
   "source": [
    "df['# Employees'].replace(['None','0 to 5', '5 to 10', '10 to 20','20+'],[0,1,2,3,4], inplace=True)\n",
    "df['Website Rating'].replace(['1 - Poor, rudimentary website ', '2 - Basic design, few projects ', \n",
    "                              '3 - Beyond Basic with design and detailed project info',\n",
    "                              '4 - Sophisticated Website, high quality, reviews'],[1,2,3,4], inplace=True)\n",
    "df['Years in Biz'].replace(['0 to 5', '5 to 10', '10 to 15','15+'],[1,2,3,4], inplace=True)\n",
    "\n",
    "df['Value of Home Built'].replace(['Primarily Starter Homes', 'Mostly Mid Value Homes',\n",
    "                                   'Mix of Premium and Mid Value','Almost Exclusively Premium'],\n",
    "                                  [1,2,3,4], inplace=True)\n",
    "\n",
    "df['Trade Area'].replace(['Highly Local - Most Projects within 50 miles of main office', \n",
    "                          'Broad Coverage - Some Projects extend to 100 miles beyond main office',\n",
    "                          'Regional - A few projects beyond 100 miles'],[3,2,1], inplace=True)\n",
    "\n",
    "# df['Avg. Yelp Review Rating'].replace(['1. One Star', '2. Two Star', '3. Three Star',\n",
    "#                                        '4. Four Star','5. Five Star'],[1,2,3,4,5], inplace=True)\n",
    "\n",
    "df['Online Reviews on Buildzoom'].replace(['0', '< 5', '<15','15+'],[1,2,3,4], inplace=True)\n",
    "\n",
    "df['Online Reviews on Google'].replace(['0','< 5', '< 15','15+'],[1,2,3,4], inplace=True)\n",
    "\n",
    "df['Score- Level of Sophistication'].replace(['Lack sophistication - avg. FB/IG page, little /no social media activity',\n",
    "                                              'Middling sophistication - decent FB/IG page, occasional social media activity',\n",
    "                                              'Very sophisticated - good FB page, IG page, active social media content',\n",
    "                                              'Super sophisticated- Great FB page, IG page, super high engagement on social a/c platforms '],\n",
    "                                             [1,2,3,4], inplace=True)\n",
    "\n",
    "df['Sustainability/Green Design'].replace(['Yes','No'],[1,0], inplace=True)\n",
    "df['Do they do Commercial Work'].replace(['Yes','No','Yes, No'],[1,0,-1], inplace=True)\n",
    "df['Is this a GC?'].replace(['Yes','No'],[1,0], inplace=True)\n",
    "df['Sustainability, Environment, Renewable, Green, Water Conservation Focus'].replace(['Yes','No'],[1,0], inplace=True)\n",
    "df['Is firm on Blue Book?'].replace(['Yes','No'],[1,0], inplace=True)\n",
    "df['LinkedIn Presence'].replace(['Yes','No'],[1,0], inplace=True)\n",
    "df['FB Presence'].replace(['Yes','No'],[1,0], inplace=True)\n",
    "df['Instagram Presence'].replace(['Yes','No'],[1,0], inplace=True)\n",
    "df['BuildZoom Profile Exists'].replace(['Yes','No'],[1,0], inplace=True)\n",
    "df['Account on Houzz.com'].replace(['Yes','No'],[1,0], inplace=True)\n",
    "df['Marketing or PM Position'].replace(['Yes','No'],[1,0], inplace=True)\n",
    "df['if_sf'].replace(['Yes','No'],[1,0], inplace=True)\n",
    "\n",
    "\n",
    "\n"
   ]
  },
  {
   "cell_type": "code",
   "execution_count": 4,
   "id": "explicit-local",
   "metadata": {},
   "outputs": [],
   "source": [
    "# le = preprocessing.LabelEncoder()\n",
    "# ohe =preprocessing.OneHotEncoder()\n",
    "# df['Type of Primary Services Offered - Must be listed on website'] = ohe.fit_transform(df['Type of Primary Services Offered - Must be listed on website'].values.reshape(-1,1))\n",
    "\n",
    "# df['Type of Primary Services Offered - Must be listed on website'] = le.fit_transform(df['Type of Primary Services Offered - Must be listed on website'].values.reshape(-1,1))\n",
    "\n"
   ]
  },
  {
   "cell_type": "code",
   "execution_count": 6,
   "id": "divided-conservation",
   "metadata": {},
   "outputs": [],
   "source": [
    "df['length_topso']=df['Type of Primary Services Offered - Must be listed on website'].str.len()"
   ]
  },
  {
   "cell_type": "code",
   "execution_count": 7,
   "id": "environmental-technique",
   "metadata": {},
   "outputs": [],
   "source": [
    "df['length_topd']=df['Type of Projects Done'].str.len()"
   ]
  },
  {
   "cell_type": "code",
   "execution_count": 11,
   "id": "moral-stocks",
   "metadata": {},
   "outputs": [
    {
     "name": "stdout",
     "output_type": "stream",
     "text": [
      "(944, 24)\n",
      "(944,)\n",
      "(118, 24)\n",
      "(118,)\n",
      "(118, 24)\n",
      "(118,)\n"
     ]
    },
    {
     "data": {
      "text/plain": [
       "(None, None)"
      ]
     },
     "execution_count": 11,
     "metadata": {},
     "output_type": "execute_result"
    }
   ],
   "source": [
    "X = df.drop(['Enhanced Business Name','Type of Primary Services Offered - Must be listed on website',\n",
    "             'Type of Projects Done','Total Tracked Views','Type of Projects Done','Avg. Yelp Review Rating'], axis=1)\n",
    "y = df['Total Tracked Views']\n",
    "X_train, X_rem, y_train, y_rem = train_test_split(X,y, train_size=0.8, random_state = 0)\n",
    "X_valid, X_test, y_valid, y_test = train_test_split(X_rem,y_rem, test_size=0.5,  random_state = 0)\n",
    "\n",
    "print(X_train.shape), print(y_train.shape)\n",
    "print(X_valid.shape), print(y_valid.shape)\n",
    "print(X_test.shape), print(y_test.shape)\n"
   ]
  },
  {
   "cell_type": "code",
   "execution_count": 12,
   "id": "naughty-roller",
   "metadata": {},
   "outputs": [
    {
     "name": "stdout",
     "output_type": "stream",
     "text": [
      "XGBoost score on validation set:  1.0869894106208013\n"
     ]
    }
   ],
   "source": [
    "regr = xgb.XGBRegressor()\n",
    "\n",
    "regr.fit(X_train,y_train)\n",
    "\n",
    "# Run prediction on training set to get a rough idea of how well it does.\n",
    "y_pred = regr.predict(X_valid)\n",
    "# y_test = label_df\n",
    "print(\"XGBoost score on validation set: \", sqrt(mean_squared_error(y_valid, y_pred)))\n",
    "\n",
    "# Run prediction on the Kaggle test set.\n",
    "# y_pred_xgb = regr.predict(test_df_munged)\n"
   ]
  },
  {
   "cell_type": "code",
   "execution_count": 13,
   "id": "coral-magnet",
   "metadata": {},
   "outputs": [],
   "source": [
    "\n",
    "importances = pd.DataFrame(data={\n",
    "    'Attribute': X_train.columns,\n",
    "    'Importance': regr.feature_importances_\n",
    "})\n",
    "importances = importances.sort_values(by='Importance', ascending=False)"
   ]
  },
  {
   "cell_type": "code",
   "execution_count": 14,
   "id": "double-engine",
   "metadata": {},
   "outputs": [
    {
     "data": {
      "text/html": [
       "<div>\n",
       "<style scoped>\n",
       "    .dataframe tbody tr th:only-of-type {\n",
       "        vertical-align: middle;\n",
       "    }\n",
       "\n",
       "    .dataframe tbody tr th {\n",
       "        vertical-align: top;\n",
       "    }\n",
       "\n",
       "    .dataframe thead th {\n",
       "        text-align: right;\n",
       "    }\n",
       "</style>\n",
       "<table border=\"1\" class=\"dataframe\">\n",
       "  <thead>\n",
       "    <tr style=\"text-align: right;\">\n",
       "      <th></th>\n",
       "      <th>Attribute</th>\n",
       "      <th>Importance</th>\n",
       "    </tr>\n",
       "  </thead>\n",
       "  <tbody>\n",
       "    <tr>\n",
       "      <th>14</th>\n",
       "      <td>LinkedIn Presence</td>\n",
       "      <td>0.082237</td>\n",
       "    </tr>\n",
       "    <tr>\n",
       "      <th>11</th>\n",
       "      <td>Is this a GC?</td>\n",
       "      <td>0.070645</td>\n",
       "    </tr>\n",
       "    <tr>\n",
       "      <th>7</th>\n",
       "      <td>Online Reviews on Buildzoom</td>\n",
       "      <td>0.070040</td>\n",
       "    </tr>\n",
       "    <tr>\n",
       "      <th>19</th>\n",
       "      <td>Account on Houzz.com</td>\n",
       "      <td>0.056909</td>\n",
       "    </tr>\n",
       "    <tr>\n",
       "      <th>15</th>\n",
       "      <td>FB Presence</td>\n",
       "      <td>0.053698</td>\n",
       "    </tr>\n",
       "    <tr>\n",
       "      <th>2</th>\n",
       "      <td># Employees</td>\n",
       "      <td>0.050301</td>\n",
       "    </tr>\n",
       "    <tr>\n",
       "      <th>20</th>\n",
       "      <td>Marketing or PM Position</td>\n",
       "      <td>0.050299</td>\n",
       "    </tr>\n",
       "    <tr>\n",
       "      <th>3</th>\n",
       "      <td>Website Rating</td>\n",
       "      <td>0.048138</td>\n",
       "    </tr>\n",
       "    <tr>\n",
       "      <th>21</th>\n",
       "      <td>if_sf</td>\n",
       "      <td>0.045403</td>\n",
       "    </tr>\n",
       "    <tr>\n",
       "      <th>10</th>\n",
       "      <td>Do they do Commercial Work</td>\n",
       "      <td>0.045244</td>\n",
       "    </tr>\n",
       "    <tr>\n",
       "      <th>23</th>\n",
       "      <td>length_topd</td>\n",
       "      <td>0.044063</td>\n",
       "    </tr>\n",
       "    <tr>\n",
       "      <th>5</th>\n",
       "      <td>Trade Area</td>\n",
       "      <td>0.044050</td>\n",
       "    </tr>\n",
       "    <tr>\n",
       "      <th>4</th>\n",
       "      <td>Years in Biz</td>\n",
       "      <td>0.043863</td>\n",
       "    </tr>\n",
       "    <tr>\n",
       "      <th>8</th>\n",
       "      <td>Online Reviews on Google</td>\n",
       "      <td>0.043077</td>\n",
       "    </tr>\n",
       "    <tr>\n",
       "      <th>9</th>\n",
       "      <td>Score- Level of Sophistication</td>\n",
       "      <td>0.041576</td>\n",
       "    </tr>\n",
       "    <tr>\n",
       "      <th>1</th>\n",
       "      <td>Owner Age</td>\n",
       "      <td>0.039937</td>\n",
       "    </tr>\n",
       "    <tr>\n",
       "      <th>18</th>\n",
       "      <td>BuildZoom Score (If Exists)</td>\n",
       "      <td>0.039572</td>\n",
       "    </tr>\n",
       "    <tr>\n",
       "      <th>13</th>\n",
       "      <td>Is firm on Blue Book?</td>\n",
       "      <td>0.032240</td>\n",
       "    </tr>\n",
       "    <tr>\n",
       "      <th>16</th>\n",
       "      <td>Instagram Presence</td>\n",
       "      <td>0.029854</td>\n",
       "    </tr>\n",
       "    <tr>\n",
       "      <th>22</th>\n",
       "      <td>length_topso</td>\n",
       "      <td>0.027770</td>\n",
       "    </tr>\n",
       "    <tr>\n",
       "      <th>6</th>\n",
       "      <td>Value of Home Built</td>\n",
       "      <td>0.026442</td>\n",
       "    </tr>\n",
       "    <tr>\n",
       "      <th>0</th>\n",
       "      <td>Sustainability/Green Design</td>\n",
       "      <td>0.013017</td>\n",
       "    </tr>\n",
       "    <tr>\n",
       "      <th>17</th>\n",
       "      <td>BuildZoom Profile Exists</td>\n",
       "      <td>0.001624</td>\n",
       "    </tr>\n",
       "    <tr>\n",
       "      <th>12</th>\n",
       "      <td>Sustainability, Environment, Renewable, Green,...</td>\n",
       "      <td>0.000000</td>\n",
       "    </tr>\n",
       "  </tbody>\n",
       "</table>\n",
       "</div>"
      ],
      "text/plain": [
       "                                            Attribute  Importance\n",
       "14                                  LinkedIn Presence    0.082237\n",
       "11                                      Is this a GC?    0.070645\n",
       "7                         Online Reviews on Buildzoom    0.070040\n",
       "19                               Account on Houzz.com    0.056909\n",
       "15                                        FB Presence    0.053698\n",
       "2                                         # Employees    0.050301\n",
       "20                           Marketing or PM Position    0.050299\n",
       "3                                      Website Rating    0.048138\n",
       "21                                              if_sf    0.045403\n",
       "10                         Do they do Commercial Work    0.045244\n",
       "23                                        length_topd    0.044063\n",
       "5                                          Trade Area    0.044050\n",
       "4                                        Years in Biz    0.043863\n",
       "8                            Online Reviews on Google    0.043077\n",
       "9                      Score- Level of Sophistication    0.041576\n",
       "1                                           Owner Age    0.039937\n",
       "18                        BuildZoom Score (If Exists)    0.039572\n",
       "13                              Is firm on Blue Book?    0.032240\n",
       "16                                 Instagram Presence    0.029854\n",
       "22                                       length_topso    0.027770\n",
       "6                                 Value of Home Built    0.026442\n",
       "0                         Sustainability/Green Design    0.013017\n",
       "17                           BuildZoom Profile Exists    0.001624\n",
       "12  Sustainability, Environment, Renewable, Green,...    0.000000"
      ]
     },
     "execution_count": 14,
     "metadata": {},
     "output_type": "execute_result"
    }
   ],
   "source": [
    "importances"
   ]
  },
  {
   "cell_type": "code",
   "execution_count": 15,
   "id": "married-shooting",
   "metadata": {},
   "outputs": [
    {
     "data": {
      "image/png": "[encoded data removed]",
      "text/plain": [
       "<Figure size 720x720 with 1 Axes>"
      ]
     },
     "metadata": {
      "needs_background": "light"
     },
     "output_type": "display_data"
    }
   ],
   "source": [
    "\n",
    "plt.figure(figsize=(10, 10))\n",
    "plt.bar(x=importances['Attribute'], height=importances['Importance'], color='#087E8B')\n",
    "plt.title('Feature importances obtained from coefficients', size=20)\n",
    "plt.xticks(rotation='vertical')\n",
    "plt.show()"
   ]
  },
  {
   "cell_type": "markdown",
   "id": "distinct-balance",
   "metadata": {},
   "source": [
    "### Logistic regression"
   ]
  },
  {
   "cell_type": "code",
   "execution_count": 18,
   "id": "referenced-excess",
   "metadata": {},
   "outputs": [],
   "source": [
    "# Create outcome variable for logistic regression\n",
    "df['views']=[1 if i>0 else 0 for i in df['Total Tracked Views']]"
   ]
  },
  {
   "cell_type": "code",
   "execution_count": 19,
   "id": "sticky-blocking",
   "metadata": {},
   "outputs": [],
   "source": [
    "df['Website Rating']=df['Website Rating'].fillna(0)"
   ]
  },
  {
   "cell_type": "code",
   "execution_count": 20,
   "id": "adequate-learning",
   "metadata": {},
   "outputs": [
    {
     "data": {
      "text/plain": [
       "Sustainability/Green Design                                                127\n",
       "Total Tracked Views                                                          0\n",
       "Enhanced Business Name                                                      41\n",
       "Owner Age                                                                  554\n",
       "Type of Primary Services Offered - Must be listed on website               263\n",
       "# Employees                                                                341\n",
       "Website Rating                                                               0\n",
       "Years in Biz                                                               127\n",
       "Trade Area                                                                  92\n",
       "Type of Projects Done                                                      112\n",
       "Value of Home Built                                                        185\n",
       "Avg. Yelp Review Rating                                                    659\n",
       "Online Reviews on Buildzoom                                                236\n",
       "Online Reviews on Google                                                   272\n",
       "Score- Level of Sophistication                                             150\n",
       "Do they do Commercial Work                                                 106\n",
       "Is this a GC?                                                               45\n",
       "Sustainability, Environment, Renewable, Green, Water Conservation Focus    127\n",
       "Is firm on Blue Book?                                                       27\n",
       "LinkedIn Presence                                                           26\n",
       "FB Presence                                                                 21\n",
       "Instagram Presence                                                          10\n",
       "BuildZoom Profile Exists                                                     6\n",
       "BuildZoom Score (If Exists)                                                159\n",
       "Account on Houzz.com                                                        19\n",
       "Marketing or PM Position                                                   259\n",
       "if_sf                                                                        0\n",
       "length_topso                                                               263\n",
       "length_topd                                                                112\n",
       "views                                                                        0\n",
       "dtype: int64"
      ]
     },
     "execution_count": 20,
     "metadata": {},
     "output_type": "execute_result"
    }
   ],
   "source": [
    "df.isna().sum()"
   ]
  },
  {
   "cell_type": "code",
   "execution_count": 21,
   "id": "unlikely-ethnic",
   "metadata": {},
   "outputs": [],
   "source": [
    "df1=df.fillna(df.mean())"
   ]
  },
  {
   "cell_type": "code",
   "execution_count": 22,
   "id": "abstract-adult",
   "metadata": {},
   "outputs": [
    {
     "data": {
      "text/plain": [
       "Sustainability/Green Design                                                  0\n",
       "Total Tracked Views                                                          0\n",
       "Enhanced Business Name                                                      41\n",
       "Owner Age                                                                    0\n",
       "Type of Primary Services Offered - Must be listed on website               263\n",
       "# Employees                                                                  0\n",
       "Website Rating                                                               0\n",
       "Years in Biz                                                                 0\n",
       "Trade Area                                                                   0\n",
       "Type of Projects Done                                                      112\n",
       "Value of Home Built                                                          0\n",
       "Avg. Yelp Review Rating                                                    659\n",
       "Online Reviews on Buildzoom                                                  0\n",
       "Online Reviews on Google                                                     0\n",
       "Score- Level of Sophistication                                               0\n",
       "Do they do Commercial Work                                                   0\n",
       "Is this a GC?                                                                0\n",
       "Sustainability, Environment, Renewable, Green, Water Conservation Focus      0\n",
       "Is firm on Blue Book?                                                        0\n",
       "LinkedIn Presence                                                            0\n",
       "FB Presence                                                                  0\n",
       "Instagram Presence                                                           0\n",
       "BuildZoom Profile Exists                                                     0\n",
       "BuildZoom Score (If Exists)                                                  0\n",
       "Account on Houzz.com                                                         0\n",
       "Marketing or PM Position                                                     0\n",
       "if_sf                                                                        0\n",
       "length_topso                                                                 0\n",
       "length_topd                                                                  0\n",
       "views                                                                        0\n",
       "dtype: int64"
      ]
     },
     "execution_count": 22,
     "metadata": {},
     "output_type": "execute_result"
    }
   ],
   "source": [
    "df1.isna().sum()"
   ]
  },
  {
   "cell_type": "code",
   "execution_count": 23,
   "id": "senior-mainland",
   "metadata": {},
   "outputs": [
    {
     "name": "stdout",
     "output_type": "stream",
     "text": [
      "(944, 24)\n",
      "(944,)\n",
      "(118, 24)\n",
      "(118,)\n",
      "(118, 24)\n",
      "(118,)\n"
     ]
    },
    {
     "data": {
      "text/plain": [
       "(None, None)"
      ]
     },
     "execution_count": 23,
     "metadata": {},
     "output_type": "execute_result"
    }
   ],
   "source": [
    "X = df1.drop(['Enhanced Business Name','Type of Projects Done','Type of Primary Services Offered - Must be listed on website','Total Tracked Views','Avg. Yelp Review Rating','views'], axis=1)\n",
    "y = df1['views']\n",
    "X_train, X_rem, y_train, y_rem = train_test_split(X,y, train_size=0.8, random_state = 0)\n",
    "X_valid, X_test, y_valid, y_test = train_test_split(X_rem,y_rem, test_size=0.5,  random_state = 0)\n",
    "\n",
    "print(X_train.shape), print(y_train.shape)\n",
    "print(X_valid.shape), print(y_valid.shape)\n",
    "print(X_test.shape), print(y_test.shape)\n"
   ]
  },
  {
   "cell_type": "code",
   "execution_count": 24,
   "id": "behavioral-lounge",
   "metadata": {},
   "outputs": [],
   "source": [
    "logreg = LogisticRegression()\n",
    "logreg.fit(X_train, y_train)\n",
    "y_pred = logreg.predict(X_valid)"
   ]
  },
  {
   "cell_type": "code",
   "execution_count": 25,
   "id": "harmful-sample",
   "metadata": {},
   "outputs": [
    {
     "name": "stdout",
     "output_type": "stream",
     "text": [
      "Accuracy of logistic regression classifier on validation set: 0.53\n",
      "Precision of logistic regression classifier on validation set: 0.53\n"
     ]
    }
   ],
   "source": [
    "acc1=accuracy_score(y_valid, y_pred)\n",
    "prec1=precision_score(y_valid, y_pred)\n",
    "print('Accuracy of logistic regression classifier on validation set: {:.2f}'.format(acc1))\n",
    "print('Precision of logistic regression classifier on validation set: {:.2f}'.format(prec1))"
   ]
  },
  {
   "cell_type": "code",
   "execution_count": 26,
   "id": "functional-shell",
   "metadata": {},
   "outputs": [],
   "source": [
    "# confusion_matrix = confusion_matrix(y_valid, y_pred)\n",
    "# print(confusion_matrix)\n",
    "# print(classification_report(y_valid, y_pred))"
   ]
  },
  {
   "cell_type": "code",
   "execution_count": 27,
   "id": "resident-compensation",
   "metadata": {},
   "outputs": [],
   "source": [
    "importances = pd.DataFrame(data={\n",
    "    'Attribute': X_train.columns,\n",
    "    'Importance': logreg.coef_[0]\n",
    "})\n",
    "importances = importances.sort_values(by='Importance', ascending=False)"
   ]
  },
  {
   "cell_type": "code",
   "execution_count": 28,
   "id": "sapphire-vacuum",
   "metadata": {},
   "outputs": [
    {
     "data": {
      "text/html": [
       "<div>\n",
       "<style scoped>\n",
       "    .dataframe tbody tr th:only-of-type {\n",
       "        vertical-align: middle;\n",
       "    }\n",
       "\n",
       "    .dataframe tbody tr th {\n",
       "        vertical-align: top;\n",
       "    }\n",
       "\n",
       "    .dataframe thead th {\n",
       "        text-align: right;\n",
       "    }\n",
       "</style>\n",
       "<table border=\"1\" class=\"dataframe\">\n",
       "  <thead>\n",
       "    <tr style=\"text-align: right;\">\n",
       "      <th></th>\n",
       "      <th>Attribute</th>\n",
       "      <th>Importance</th>\n",
       "    </tr>\n",
       "  </thead>\n",
       "  <tbody>\n",
       "    <tr>\n",
       "      <th>21</th>\n",
       "      <td>if_sf</td>\n",
       "      <td>0.303582</td>\n",
       "    </tr>\n",
       "    <tr>\n",
       "      <th>9</th>\n",
       "      <td>Score- Level of Sophistication</td>\n",
       "      <td>0.177757</td>\n",
       "    </tr>\n",
       "    <tr>\n",
       "      <th>3</th>\n",
       "      <td>Website Rating</td>\n",
       "      <td>0.177456</td>\n",
       "    </tr>\n",
       "    <tr>\n",
       "      <th>7</th>\n",
       "      <td>Online Reviews on Buildzoom</td>\n",
       "      <td>0.158904</td>\n",
       "    </tr>\n",
       "    <tr>\n",
       "      <th>17</th>\n",
       "      <td>BuildZoom Profile Exists</td>\n",
       "      <td>0.120672</td>\n",
       "    </tr>\n",
       "    <tr>\n",
       "      <th>16</th>\n",
       "      <td>Instagram Presence</td>\n",
       "      <td>0.115523</td>\n",
       "    </tr>\n",
       "    <tr>\n",
       "      <th>4</th>\n",
       "      <td>Years in Biz</td>\n",
       "      <td>0.113708</td>\n",
       "    </tr>\n",
       "    <tr>\n",
       "      <th>14</th>\n",
       "      <td>LinkedIn Presence</td>\n",
       "      <td>0.035992</td>\n",
       "    </tr>\n",
       "    <tr>\n",
       "      <th>5</th>\n",
       "      <td>Trade Area</td>\n",
       "      <td>0.019389</td>\n",
       "    </tr>\n",
       "    <tr>\n",
       "      <th>0</th>\n",
       "      <td>Sustainability/Green Design</td>\n",
       "      <td>0.003329</td>\n",
       "    </tr>\n",
       "    <tr>\n",
       "      <th>12</th>\n",
       "      <td>Sustainability, Environment, Renewable, Green,...</td>\n",
       "      <td>0.003329</td>\n",
       "    </tr>\n",
       "    <tr>\n",
       "      <th>15</th>\n",
       "      <td>FB Presence</td>\n",
       "      <td>-0.000059</td>\n",
       "    </tr>\n",
       "    <tr>\n",
       "      <th>18</th>\n",
       "      <td>BuildZoom Score (If Exists)</td>\n",
       "      <td>-0.000494</td>\n",
       "    </tr>\n",
       "    <tr>\n",
       "      <th>23</th>\n",
       "      <td>length_topd</td>\n",
       "      <td>-0.001631</td>\n",
       "    </tr>\n",
       "    <tr>\n",
       "      <th>22</th>\n",
       "      <td>length_topso</td>\n",
       "      <td>-0.004805</td>\n",
       "    </tr>\n",
       "    <tr>\n",
       "      <th>1</th>\n",
       "      <td>Owner Age</td>\n",
       "      <td>-0.009317</td>\n",
       "    </tr>\n",
       "    <tr>\n",
       "      <th>10</th>\n",
       "      <td>Do they do Commercial Work</td>\n",
       "      <td>-0.009961</td>\n",
       "    </tr>\n",
       "    <tr>\n",
       "      <th>11</th>\n",
       "      <td>Is this a GC?</td>\n",
       "      <td>-0.039378</td>\n",
       "    </tr>\n",
       "    <tr>\n",
       "      <th>6</th>\n",
       "      <td>Value of Home Built</td>\n",
       "      <td>-0.046084</td>\n",
       "    </tr>\n",
       "    <tr>\n",
       "      <th>8</th>\n",
       "      <td>Online Reviews on Google</td>\n",
       "      <td>-0.046342</td>\n",
       "    </tr>\n",
       "    <tr>\n",
       "      <th>13</th>\n",
       "      <td>Is firm on Blue Book?</td>\n",
       "      <td>-0.060330</td>\n",
       "    </tr>\n",
       "    <tr>\n",
       "      <th>20</th>\n",
       "      <td>Marketing or PM Position</td>\n",
       "      <td>-0.060427</td>\n",
       "    </tr>\n",
       "    <tr>\n",
       "      <th>19</th>\n",
       "      <td>Account on Houzz.com</td>\n",
       "      <td>-0.162939</td>\n",
       "    </tr>\n",
       "    <tr>\n",
       "      <th>2</th>\n",
       "      <td># Employees</td>\n",
       "      <td>-0.307851</td>\n",
       "    </tr>\n",
       "  </tbody>\n",
       "</table>\n",
       "</div>"
      ],
      "text/plain": [
       "                                            Attribute  Importance\n",
       "21                                              if_sf    0.303582\n",
       "9                      Score- Level of Sophistication    0.177757\n",
       "3                                      Website Rating    0.177456\n",
       "7                         Online Reviews on Buildzoom    0.158904\n",
       "17                           BuildZoom Profile Exists    0.120672\n",
       "16                                 Instagram Presence    0.115523\n",
       "4                                        Years in Biz    0.113708\n",
       "14                                  LinkedIn Presence    0.035992\n",
       "5                                          Trade Area    0.019389\n",
       "0                         Sustainability/Green Design    0.003329\n",
       "12  Sustainability, Environment, Renewable, Green,...    0.003329\n",
       "15                                        FB Presence   -0.000059\n",
       "18                        BuildZoom Score (If Exists)   -0.000494\n",
       "23                                        length_topd   -0.001631\n",
       "22                                       length_topso   -0.004805\n",
       "1                                           Owner Age   -0.009317\n",
       "10                         Do they do Commercial Work   -0.009961\n",
       "11                                      Is this a GC?   -0.039378\n",
       "6                                 Value of Home Built   -0.046084\n",
       "8                            Online Reviews on Google   -0.046342\n",
       "13                              Is firm on Blue Book?   -0.060330\n",
       "20                           Marketing or PM Position   -0.060427\n",
       "19                               Account on Houzz.com   -0.162939\n",
       "2                                         # Employees   -0.307851"
      ]
     },
     "execution_count": 28,
     "metadata": {},
     "output_type": "execute_result"
    }
   ],
   "source": [
    "importances"
   ]
  },
  {
   "cell_type": "code",
   "execution_count": 29,
   "id": "printable-dating",
   "metadata": {},
   "outputs": [
    {
     "data": {
      "image/png": "[encoded data removed]",
      "text/plain": [
       "<Figure size 720x720 with 1 Axes>"
      ]
     },
     "metadata": {
      "needs_background": "light"
     },
     "output_type": "display_data"
    }
   ],
   "source": [
    "plt.figure(figsize=(10, 10))\n",
    "plt.bar(x=importances['Attribute'], height=importances['Importance'], color='#087E8B')\n",
    "plt.title('Feature importances obtained from coefficients', size=20)\n",
    "plt.xticks(rotation='vertical')\n",
    "plt.show()"
   ]
  },
  {
   "cell_type": "markdown",
   "id": "specified-madagascar",
   "metadata": {},
   "source": [
    "## SVM"
   ]
  },
  {
   "cell_type": "code",
   "execution_count": 30,
   "id": "crude-composition",
   "metadata": {},
   "outputs": [
    {
     "name": "stdout",
     "output_type": "stream",
     "text": [
      "Accuracy of logistic regression classifier on validation set: 0.57\n",
      "Precision of logistic regression classifier on validation set: 0.60\n"
     ]
    }
   ],
   "source": [
    "from sklearn.svm import SVC\n",
    "from sklearn.pipeline import make_pipeline\n",
    "from sklearn.preprocessing import StandardScaler\n",
    "clf = make_pipeline(StandardScaler(), SVC(gamma='auto'))\n",
    "clf.fit(X_train, y_train)\n",
    "Pipeline(steps=[('standardscaler', StandardScaler()),\n",
    "                ('svc', SVC(gamma='auto'))])\n",
    "y_pred = clf.predict(X_valid)\n",
    "\n",
    "acc2=accuracy_score(y_valid, y_pred)\n",
    "prec2=precision_score(y_valid, y_pred)\n",
    "print('Accuracy of logistic regression classifier on validation set: {:.2f}'.format(acc2))\n",
    "print('Precision of logistic regression classifier on validation set: {:.2f}'.format(prec2))"
   ]
  },
  {
   "cell_type": "markdown",
   "id": "grand-bridge",
   "metadata": {},
   "source": [
    "## KNN"
   ]
  },
  {
   "cell_type": "code",
   "execution_count": 31,
   "id": "ordered-advertiser",
   "metadata": {},
   "outputs": [
    {
     "name": "stdout",
     "output_type": "stream",
     "text": [
      "Accuracy of logistic regression classifier on validation set: 0.43\n",
      "Precision of logistic regression classifier on validation set: 0.39\n"
     ]
    }
   ],
   "source": [
    "from sklearn.neighbors import KNeighborsClassifier\n",
    "classifier_knn = KNeighborsClassifier(n_neighbors=5)\n",
    "classifier_knn.fit(X_train, y_train)\n",
    "y_pred_knn = classifier_knn.predict(X_test)\n",
    "\n",
    "acc3=accuracy_score(y_valid, y_pred_knn)\n",
    "prec3=precision_score(y_valid, y_pred_knn)\n",
    "print('Accuracy of logistic regression classifier on validation set: {:.2f}'.format(acc3))\n",
    "print('Precision of logistic regression classifier on validation set: {:.2f}'.format(prec3))"
   ]
  },
  {
   "cell_type": "markdown",
   "id": "activated-heart",
   "metadata": {},
   "source": [
    "## Decisiontree\n"
   ]
  },
  {
   "cell_type": "code",
   "execution_count": 32,
   "id": "streaming-civilization",
   "metadata": {},
   "outputs": [
    {
     "name": "stdout",
     "output_type": "stream",
     "text": [
      "Accuracy of logistic regression classifier on validation set: 0.47\n",
      "Precision of logistic regression classifier on validation set: 0.44\n"
     ]
    }
   ],
   "source": [
    "from sklearn.tree import DecisionTreeClassifier\n",
    "from sklearn import tree\n",
    "\n",
    "dtclf = tree.DecisionTreeClassifier()\n",
    "dtclf = dtclf.fit(X_train, y_train)\n",
    "y_pred_dt = dtclf.predict(X_test)\n",
    "\n",
    "acc4=accuracy_score(y_valid, y_pred_dt)\n",
    "prec4=precision_score(y_valid, y_pred_dt)\n",
    "print('Accuracy of logistic regression classifier on validation set: {:.2f}'.format(acc4))\n",
    "print('Precision of logistic regression classifier on validation set: {:.2f}'.format(prec4))"
   ]
  },
  {
   "cell_type": "markdown",
   "id": "imposed-allocation",
   "metadata": {},
   "source": [
    "## GaussianNB"
   ]
  },
  {
   "cell_type": "code",
   "execution_count": 33,
   "id": "brief-attraction",
   "metadata": {},
   "outputs": [
    {
     "name": "stdout",
     "output_type": "stream",
     "text": [
      "Accuracy of logistic regression classifier on validation set: 0.49\n",
      "Precision of logistic regression classifier on validation set: 0.49\n"
     ]
    }
   ],
   "source": [
    "from sklearn.naive_bayes import GaussianNB\n",
    "\n",
    "gb=GaussianNB()\n",
    "gb = gb.fit(X_train, y_train)\n",
    "y_pred_gb = gb.predict(X_test)\n",
    "\n",
    "acc5=accuracy_score(y_valid, y_pred_gb)\n",
    "prec5=precision_score(y_valid, y_pred_gb)\n",
    "print('Accuracy of logistic regression classifier on validation set: {:.2f}'.format(acc5))\n",
    "print('Precision of logistic regression classifier on validation set: {:.2f}'.format(prec5))"
   ]
  },
  {
   "cell_type": "code",
   "execution_count": 34,
   "id": "alleged-lebanon",
   "metadata": {},
   "outputs": [
    {
     "data": {
      "text/html": [
       "<div>\n",
       "<style scoped>\n",
       "    .dataframe tbody tr th:only-of-type {\n",
       "        vertical-align: middle;\n",
       "    }\n",
       "\n",
       "    .dataframe tbody tr th {\n",
       "        vertical-align: top;\n",
       "    }\n",
       "\n",
       "    .dataframe thead th {\n",
       "        text-align: right;\n",
       "    }\n",
       "</style>\n",
       "<table border=\"1\" class=\"dataframe\">\n",
       "  <thead>\n",
       "    <tr style=\"text-align: right;\">\n",
       "      <th></th>\n",
       "      <th>Model</th>\n",
       "      <th>Accuracy</th>\n",
       "      <th>Precision</th>\n",
       "    </tr>\n",
       "  </thead>\n",
       "  <tbody>\n",
       "    <tr>\n",
       "      <th>0</th>\n",
       "      <td>Logistic</td>\n",
       "      <td>0.525424</td>\n",
       "      <td>0.526316</td>\n",
       "    </tr>\n",
       "    <tr>\n",
       "      <th>1</th>\n",
       "      <td>SVM</td>\n",
       "      <td>0.567797</td>\n",
       "      <td>0.600000</td>\n",
       "    </tr>\n",
       "    <tr>\n",
       "      <th>2</th>\n",
       "      <td>KNN n=5</td>\n",
       "      <td>0.432203</td>\n",
       "      <td>0.391304</td>\n",
       "    </tr>\n",
       "    <tr>\n",
       "      <th>3</th>\n",
       "      <td>Decision Tree</td>\n",
       "      <td>0.466102</td>\n",
       "      <td>0.440000</td>\n",
       "    </tr>\n",
       "    <tr>\n",
       "      <th>4</th>\n",
       "      <td>GaussianNB</td>\n",
       "      <td>0.491525</td>\n",
       "      <td>0.485437</td>\n",
       "    </tr>\n",
       "  </tbody>\n",
       "</table>\n",
       "</div>"
      ],
      "text/plain": [
       "           Model  Accuracy  Precision\n",
       "0       Logistic  0.525424   0.526316\n",
       "1            SVM  0.567797   0.600000\n",
       "2        KNN n=5  0.432203   0.391304\n",
       "3  Decision Tree  0.466102   0.440000\n",
       "4     GaussianNB  0.491525   0.485437"
      ]
     },
     "execution_count": 34,
     "metadata": {},
     "output_type": "execute_result"
    }
   ],
   "source": [
    "data = {'Model':['Logistic','SVM','KNN n=5','Decision Tree', 'GaussianNB'],\n",
    "        'Accuracy':[acc1, acc2, acc3, acc4,acc5],\n",
    "        'Precision':[prec1, prec2, prec3, prec4,prec5]}\n",
    "result = pd.DataFrame(data)\n",
    "result"
   ]
  }
 ],
 "metadata": {
  "kernelspec": {
   "display_name": "Python 3",
   "language": "python",
   "name": "python3"
  },
  "language_info": {
   "codemirror_mode": {
    "name": "ipython",
    "version": 3
   },
   "file_extension": ".py",
   "mimetype": "text/x-python",
   "name": "python",
   "nbconvert_exporter": "python",
   "pygments_lexer": "ipython3",
   "version": "3.8.5"
  },
  "vscode": {
   "interpreter": {
    "hash": "22d7fb2212674a8ad0f372eac7bed81971dac623a3ff9cfdf895610e15876bae"
   }
  }
 },
 "nbformat": 4,
 "nbformat_minor": 5
}
